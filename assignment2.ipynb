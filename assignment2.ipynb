{
 "cells": [
  {
   "cell_type": "code",
   "execution_count": 1,
   "outputs": [],
   "source": [
    "import numpy as np\n",
    "import tensorflow as tf\n",
    "from tensorflow.python import debug as tf_debug\n",
    "from six.moves import cPickle as pickle\n",
    "from six.moves import range\n",
    "import matplotlib.pyplot as plt"
   ],
   "metadata": {
    "collapsed": false,
    "pycharm": {
     "name": "#%%\n",
     "is_executing": false
    }
   }
  },
  {
   "cell_type": "markdown",
   "source": [
    "#### 1. Реализуйте полносвязную нейронную сеть с помощью библиотеки Tensor Flow. В качестве алгоритма оптимизации можно использовать, например, стохастический градиент (Stochastic Gradient Descent, SGD). Определите количество скрытых слоев от 1 до 5, количество нейронов в каждом из слоев до нескольких сотен, а также их функции активации (кусочно-линейная, сигмоидная, гиперболический тангенс и т.д.)."
   ],
   "metadata": {
    "collapsed": false,
    "pycharm": {
     "name": "#%% md\n"
    }
   }
  },
  {
   "cell_type": "code",
   "execution_count": 2,
   "outputs": [
    {
     "name": "stdout",
     "text": [
      "Training set (200000, 28, 28) (200000,)\n",
      "Validation set (10000, 28, 28) (10000,)\n",
      "Test set (10000, 28, 28) (10000,)\n"
     ],
     "output_type": "stream"
    }
   ],
   "source": [
    "pickle_file = 'notMNIST.pickle'\n",
    "\n",
    "with open(pickle_file, 'rb') as f:\n",
    "    save = pickle.load(f)\n",
    "    train_dataset = save['train_dataset']\n",
    "    train_labels = save['train_labels']\n",
    "    valid_dataset = save['valid_dataset']\n",
    "    valid_labels = save['valid_labels']\n",
    "    test_dataset = save['test_dataset']\n",
    "    test_labels = save['test_labels']\n",
    "\n",
    "    del save  # for gc\n",
    "\n",
    "    print('Training set', train_dataset.shape, train_labels.shape)\n",
    "    print('Validation set', valid_dataset.shape, valid_labels.shape)\n",
    "    print('Test set', test_dataset.shape, test_labels.shape)\n",
    "    "
   ],
   "metadata": {
    "collapsed": false,
    "pycharm": {
     "name": "#%%\n",
     "is_executing": false
    }
   }
  },
  {
   "cell_type": "code",
   "execution_count": 3,
   "outputs": [],
   "source": [
    "image_size = 28\n",
    "num_labels = 10"
   ],
   "metadata": {
    "collapsed": false,
    "pycharm": {
     "name": "#%%\n",
     "is_executing": false
    }
   }
  },
  {
   "cell_type": "code",
   "execution_count": 4,
   "outputs": [],
   "source": [
    "def reformat(dataset, labels):\n",
    "    dataset = dataset.reshape((-1, image_size * image_size)).astype(np.float32)\n",
    "    # Map 0 to [1.0, 0.0, 0.0 ...], 1 to [0.0, 1.0, 0.0 ...]\n",
    "    labels = (np.arange(num_labels) == labels[:, None]).astype(np.float32)\n",
    "    return dataset, labels"
   ],
   "metadata": {
    "collapsed": false,
    "pycharm": {
     "name": "#%%\n",
     "is_executing": false
    }
   }
  },
  {
   "cell_type": "code",
   "execution_count": 5,
   "outputs": [
    {
     "name": "stdout",
     "text": [
      "Training set (200000, 784) (200000, 10)\n",
      "Validation set (10000, 784) (10000, 10)\n",
      "Test set (10000, 784) (10000, 10)\n"
     ],
     "output_type": "stream"
    }
   ],
   "source": [
    "train_dataset, train_labels = reformat(train_dataset, train_labels)\n",
    "valid_dataset, valid_labels = reformat(valid_dataset, valid_labels)\n",
    "test_dataset, test_labels = reformat(test_dataset, test_labels)\n",
    "print('Training set', train_dataset.shape, train_labels.shape)\n",
    "print('Validation set', valid_dataset.shape, valid_labels.shape)\n",
    "print('Test set', test_dataset.shape, test_labels.shape)"
   ],
   "metadata": {
    "collapsed": false,
    "pycharm": {
     "name": "#%%\n",
     "is_executing": false
    }
   }
  },
  {
   "cell_type": "code",
   "execution_count": 6,
   "outputs": [],
   "source": [
    "def accuracy(predictions, labels):\n",
    "    return np.sum(np.argmax(predictions, 1) == np.argmax(labels, 1)) / predictions.shape[0] * 100.0"
   ],
   "metadata": {
    "collapsed": false,
    "pycharm": {
     "name": "#%%\n",
     "is_executing": false
    }
   }
  },
  {
   "cell_type": "code",
   "execution_count": 7,
   "outputs": [],
   "source": [
    "batch_size = 128\n",
    "num_steps = 5000\n",
    "hidden_size1 = 300\n",
    "hidden_size2 = 300\n",
    "hidden_size3 = 300\n",
    "beta_val = np.logspace(-4, -2, 20)\n",
    "accuracy_val = []"
   ],
   "metadata": {
    "collapsed": false,
    "pycharm": {
     "name": "#%%\n",
     "is_executing": false
    }
   }
  },
  {
   "cell_type": "code",
   "execution_count": 8,
   "outputs": [
    {
     "name": "stdout",
     "text": [
      "WARNING:tensorflow:\n",
      "The TensorFlow contrib module will not be included in TensorFlow 2.0.\n",
      "For more information, please see:\n",
      "  * https://github.com/tensorflow/community/blob/master/rfcs/20180907-contrib-sunset.md\n",
      "  * https://github.com/tensorflow/addons\n",
      "  * https://github.com/tensorflow/io (for I/O related ops)\n",
      "If you depend on functionality not listed there, please file an issue.\n",
      "\n",
      "WARNING:tensorflow:From <ipython-input-8-6278ed118802>:30: softmax_cross_entropy_with_logits (from tensorflow.python.ops.nn_ops) is deprecated and will be removed in a future version.\n",
      "Instructions for updating:\n",
      "\n",
      "Future major versions of TensorFlow will allow gradients to flow\n",
      "into the labels input on backprop by default.\n",
      "\n",
      "See `tf.nn.softmax_cross_entropy_with_logits_v2`.\n",
      "\n"
     ],
     "output_type": "stream"
    }
   ],
   "source": [
    "graph = tf.Graph()\n",
    "with graph.as_default():\n",
    "    tf_train_dataset = tf.placeholder(tf.float32, shape=(batch_size, image_size * image_size))\n",
    "    tf_train_labels = tf.placeholder(tf.float32, shape=(batch_size, num_labels))\n",
    "    tf_valid_dataset = tf.constant(valid_dataset)\n",
    "    tf_test_dataset = tf.constant(test_dataset)\n",
    "\n",
    "    # Variables\n",
    "    W1 = tf.get_variable('W1', [image_size * image_size, hidden_size1], initializer=tf.contrib.layers.xavier_initializer())\n",
    "    b1 = tf.get_variable('b1', [hidden_size1], initializer=tf.zeros_initializer())\n",
    "\n",
    "    # Hidden layer 1\n",
    "    W2 = tf.get_variable('W2', [hidden_size1, hidden_size2], initializer=tf.contrib.layers.xavier_initializer())\n",
    "    b2 = tf.get_variable('b2', [hidden_size2], initializer=tf.zeros_initializer())\n",
    "\n",
    "    # Hidden layer 2\n",
    "    W3 = tf.get_variable('W3', [hidden_size2, hidden_size3], initializer=tf.contrib.layers.xavier_initializer())\n",
    "    b3 = tf.get_variable('b3', [hidden_size3], initializer=tf.zeros_initializer())\n",
    "\n",
    "    # Hidden layer 3\n",
    "    W4 = tf.get_variable('W4', [hidden_size3, num_labels], initializer=tf.contrib.layers.xavier_initializer())\n",
    "    b4 = tf.get_variable('b4', [num_labels], initializer=tf.zeros_initializer())\n",
    "\n",
    "    # Training computation\n",
    "    a1 = tf.nn.relu(tf.matmul(tf_train_dataset, W1) + b1)\n",
    "    a2 = tf.nn.relu(tf.matmul(a1, W2) + b2)\n",
    "    a3 = tf.nn.relu(tf.matmul(a2, W3) + b3)\n",
    "    logits = tf.matmul(a3, W4) + b4\n",
    "\n",
    "    loss = tf.reduce_mean(tf.nn.softmax_cross_entropy_with_logits(logits=logits, labels=tf_train_labels))\n",
    "    optimizer = tf.train.GradientDescentOptimizer(0.5).minimize(loss)\n",
    "    train_prediction = tf.nn.softmax(logits)\n",
    "\n",
    "    a1_valid = tf.nn.relu(tf.matmul(tf_valid_dataset, W1) + b1)\n",
    "    a2_valid = tf.nn.relu(tf.matmul(a1_valid, W2) + b2)\n",
    "    a3_valid = tf.nn.relu(tf.matmul(a2_valid, W3) + b3)\n",
    "    valid_logits = tf.matmul(a3_valid, W4) + b4\n",
    "    valid_prediction = tf.nn.softmax(valid_logits)\n",
    "\n",
    "    a1_test = tf.nn.relu(tf.matmul(tf_test_dataset, W1) + b1)\n",
    "    a2_test = tf.nn.relu(tf.matmul(a1_test, W2) + b2)\n",
    "    a3_test = tf.nn.relu(tf.matmul(a2_test, W3) + b3)\n",
    "    test_logits = tf.matmul(a3_test, W4) + b4\n",
    "    test_prediction = tf.nn.softmax(test_logits)"
   ],
   "metadata": {
    "collapsed": false,
    "pycharm": {
     "name": "#%%\n",
     "is_executing": false
    }
   }
  },
  {
   "cell_type": "code",
   "execution_count": 9,
   "outputs": [
    {
     "name": "stdout",
     "text": [
      "WARNING:tensorflow:From /Users/konstantin/PycharmProjects/deep-learning-course/env/lib/python3.7/site-packages/tensorflow_core/python/util/tf_should_use.py:198: initialize_all_variables (from tensorflow.python.ops.variables) is deprecated and will be removed after 2017-03-02.\n",
      "Instructions for updating:\n",
      "Use `tf.global_variables_initializer` instead.\n",
      "Minibatch loss at step 0: 2.334985\n",
      "Minibatch accuracy: 10.9%\n",
      "Validation accuracy: 27.5%\n",
      "Minibatch loss at step 500: 0.458464\n",
      "Minibatch accuracy: 87.5%\n",
      "Validation accuracy: 86.1%\n",
      "Minibatch loss at step 1000: 0.464164\n",
      "Minibatch accuracy: 86.7%\n",
      "Validation accuracy: 88.0%\n",
      "Minibatch loss at step 1500: 0.489116\n",
      "Minibatch accuracy: 82.8%\n",
      "Validation accuracy: 88.4%\n",
      "Minibatch loss at step 2000: 0.302112\n",
      "Minibatch accuracy: 92.2%\n",
      "Validation accuracy: 88.3%\n",
      "Minibatch loss at step 2500: 0.320131\n",
      "Minibatch accuracy: 87.5%\n",
      "Validation accuracy: 89.0%\n",
      "Minibatch loss at step 3000: 0.385310\n",
      "Minibatch accuracy: 89.8%\n",
      "Validation accuracy: 89.5%\n",
      "Minibatch loss at step 3500: 0.326352\n",
      "Minibatch accuracy: 91.4%\n",
      "Validation accuracy: 89.2%\n",
      "Minibatch loss at step 4000: 0.385051\n",
      "Minibatch accuracy: 89.1%\n",
      "Validation accuracy: 89.7%\n",
      "Minibatch loss at step 4500: 0.199415\n",
      "Minibatch accuracy: 94.5%\n",
      "Validation accuracy: 89.7%\n",
      "Test accuracy: 94.9%\n"
     ],
     "output_type": "stream"
    }
   ],
   "source": [
    "with tf.Session(graph=graph) as session:\n",
    "    tf.initialize_all_variables().run()\n",
    "\n",
    "    for step in range(num_steps):\n",
    "        offset = (step * batch_size) % (train_labels.shape[0] - batch_size)\n",
    "        batch_data = train_dataset[offset:(offset + batch_size), :]\n",
    "        batch_labels = train_labels[offset:(offset + batch_size), :]\n",
    "        feed_dict = {tf_train_dataset: batch_data, tf_train_labels: batch_labels}\n",
    "\n",
    "        _, l, predictions = session.run([optimizer, loss, train_prediction], feed_dict=feed_dict)\n",
    "\n",
    "        if step % 500 == 0:\n",
    "            print(\"Minibatch loss at step %d: %f\" % (step, l))\n",
    "            print(\"Minibatch accuracy: %.1f%%\" % accuracy(predictions, batch_labels))\n",
    "            print(\"Validation accuracy: %.1f%%\" % accuracy(\n",
    "                valid_prediction.eval(), valid_labels))\n",
    "\n",
    "    print(\"Test accuracy: %.1f%%\" % accuracy(test_prediction.eval(), test_labels))"
   ],
   "metadata": {
    "collapsed": false,
    "pycharm": {
     "name": "#%%\n",
     "is_executing": false
    }
   }
  },
  {
   "cell_type": "markdown",
   "source": [
    "#### Задание 2. Как улучшилась точность классификатора по сравнению с логистической регрессией?"
   ],
   "metadata": {
    "collapsed": false,
    "pycharm": {
     "name": "#%% md\n"
    }
   }
  },
  {
   "cell_type": "markdown",
   "source": [
    "Я использовал полносвязную нейронную сеть с тремя слоями по 300 нейронов в каждой,\n",
    "с функцией активации RelU на скрытых слоях и softmax на выходном слое.\n",
    "Точность классификатора выросла на 5.2 процента по сравнению с логистической регрессией:\n",
    "теперь она составляет 94.8%"
   ],
   "metadata": {
    "collapsed": false,
    "pycharm": {
     "name": "#%% md\n"
    }
   }
  },
  {
   "cell_type": "markdown",
   "source": [
    "#### Задание 3. Используйте регуляризацию и метод сброса нейронов (dropout) для борьбы с переобучением. Как улучшилось качество классификации?"
   ],
   "metadata": {
    "collapsed": false,
    "pycharm": {
     "name": "#%% md\n"
    }
   }
  },
  {
   "cell_type": "code",
   "execution_count": 10,
   "outputs": [],
   "source": [
    "graph = tf.Graph()\n",
    "with graph.as_default():\n",
    "    tf_train_dataset = tf.placeholder(tf.float32, shape=(batch_size, image_size * image_size))\n",
    "    tf_train_labels = tf.placeholder(tf.float32, shape=(batch_size, num_labels))\n",
    "    tf_valid_dataset = tf.constant(valid_dataset)\n",
    "    tf_test_dataset = tf.constant(test_dataset)\n",
    "    regularization = tf.placeholder(tf.float32)\n",
    "\n",
    "    # Variables\n",
    "    W1 = tf.get_variable('W1', [image_size * image_size, hidden_size1],\n",
    "                         initializer=tf.contrib.layers.xavier_initializer())\n",
    "    b1 = tf.get_variable('b1', [hidden_size1], initializer=tf.zeros_initializer())\n",
    "\n",
    "    # Hidden layer 1\n",
    "    W2 = tf.get_variable('W2', [hidden_size1, hidden_size2], initializer=tf.contrib.layers.xavier_initializer())\n",
    "    b2 = tf.get_variable('b2', [hidden_size2], initializer=tf.zeros_initializer())\n",
    "\n",
    "    # Hidden layer 2\n",
    "    W3 = tf.get_variable('W3', [hidden_size2, hidden_size3], initializer=tf.contrib.layers.xavier_initializer())\n",
    "    b3 = tf.get_variable('b3', [hidden_size3], initializer=tf.zeros_initializer())\n",
    "\n",
    "    # Hidden layer 3\n",
    "    W4 = tf.get_variable('W4', [hidden_size3, num_labels], initializer=tf.contrib.layers.xavier_initializer())\n",
    "    b4 = tf.get_variable('b4', [num_labels], initializer=tf.zeros_initializer())\n",
    "\n",
    "    # Training computation\n",
    "    a1 = tf.nn.relu(tf.matmul(tf_train_dataset, W1) + b1)\n",
    "    a2 = tf.nn.relu(tf.matmul(a1, W2) + b2)\n",
    "    a3 = tf.nn.relu(tf.matmul(a2, W3) + b3)\n",
    "    logits = tf.matmul(a3, W4) + b4\n",
    "\n",
    "    loss = tf.reduce_mean(tf.nn.softmax_cross_entropy_with_logits(logits=logits, labels=tf_train_labels)) + \\\n",
    "           regularization * (\n",
    "                   tf.nn.l2_loss(W1) + tf.nn.l2_loss(b1) +\n",
    "                   tf.nn.l2_loss(W2) + tf.nn.l2_loss(b2) +\n",
    "                   tf.nn.l2_loss(W3) + tf.nn.l2_loss(b3) +\n",
    "                   tf.nn.l2_loss(W4) + tf.nn.l2_loss(b4))\n",
    "\n",
    "    optimizer = tf.train.GradientDescentOptimizer(0.5).minimize(loss)\n",
    "    train_prediction = tf.nn.softmax(logits)\n",
    "\n",
    "    a1_valid = tf.nn.relu(tf.matmul(tf_valid_dataset, W1) + b1)\n",
    "    a2_valid = tf.nn.relu(tf.matmul(a1_valid, W2) + b2)\n",
    "    a3_valid = tf.nn.relu(tf.matmul(a2_valid, W3) + b3)\n",
    "    valid_logits = tf.matmul(a3_valid, W4) + b4\n",
    "    valid_prediction = tf.nn.softmax(valid_logits)\n",
    "\n",
    "    a1_test = tf.nn.relu(tf.matmul(tf_test_dataset, W1) + b1)\n",
    "    a2_test = tf.nn.relu(tf.matmul(a1_test, W2) + b2)\n",
    "    a3_test = tf.nn.relu(tf.matmul(a2_test, W3) + b3)\n",
    "    test_logits = tf.matmul(a3_test, W4) + b4\n",
    "    test_prediction = tf.nn.softmax(test_logits)"
   ],
   "metadata": {
    "collapsed": false,
    "pycharm": {
     "name": "#%%\n",
     "is_executing": false
    }
   }
  },
  {
   "cell_type": "code",
   "execution_count": 11,
   "outputs": [
    {
     "name": "stdout",
     "text": [
      "L2 regularization(beta=0.00010) Test accuracy: 94.2%\n",
      "L2 regularization(beta=0.00013) Test accuracy: 94.8%\n",
      "L2 regularization(beta=0.00016) Test accuracy: 94.5%\n",
      "L2 regularization(beta=0.00021) Test accuracy: 94.5%\n",
      "L2 regularization(beta=0.00026) Test accuracy: 94.6%\n",
      "L2 regularization(beta=0.00034) Test accuracy: 94.2%\n",
      "L2 regularization(beta=0.00043) Test accuracy: 94.5%\n",
      "L2 regularization(beta=0.00055) Test accuracy: 94.2%\n",
      "L2 regularization(beta=0.00070) Test accuracy: 94.0%\n",
      "L2 regularization(beta=0.00089) Test accuracy: 92.9%\n",
      "L2 regularization(beta=0.00113) Test accuracy: 93.7%\n",
      "L2 regularization(beta=0.00144) Test accuracy: 92.5%\n",
      "L2 regularization(beta=0.00183) Test accuracy: 93.1%\n",
      "L2 regularization(beta=0.00234) Test accuracy: 92.3%\n",
      "L2 regularization(beta=0.00298) Test accuracy: 91.9%\n",
      "L2 regularization(beta=0.00379) Test accuracy: 91.7%\n",
      "L2 regularization(beta=0.00483) Test accuracy: 91.4%\n",
      "L2 regularization(beta=0.00616) Test accuracy: 89.7%\n",
      "L2 regularization(beta=0.00785) Test accuracy: 87.9%\n",
      "L2 regularization(beta=0.01000) Test accuracy: 87.3%\n",
      "Best beta=0.000127, accuracy=94.8%\n"
     ],
     "output_type": "stream"
    },
    {
     "data": {
      "text/plain": "<Figure size 432x288 with 1 Axes>",
      "image/png": "[encoded data removed]"
     },
     "metadata": {
      "needs_background": "light"
     },
     "output_type": "display_data"
    }
   ],
   "source": [
    "for beta in beta_val:\n",
    "    with tf.Session(graph=graph) as session:\n",
    "        tf.initialize_all_variables().run()\n",
    "\n",
    "        for step in range(num_steps):\n",
    "            offset = (step * batch_size) % (train_labels.shape[0] - batch_size)\n",
    "            batch_data = train_dataset[offset:(offset + batch_size), :]\n",
    "            batch_labels = train_labels[offset:(offset + batch_size), :]\n",
    "            feed_dict = {tf_train_dataset: batch_data, tf_train_labels: batch_labels, regularization: beta}\n",
    "            _, l, predictions = session.run([optimizer, loss, train_prediction], feed_dict=feed_dict)\n",
    "\n",
    "        print(\"L2 regularization(beta=%.5f) Test accuracy: %.1f%%\" % (beta, accuracy(test_prediction.eval(), test_labels)))\n",
    "        accuracy_val.append(accuracy(test_prediction.eval(), test_labels))\n",
    "\n",
    "print('Best beta=%f, accuracy=%.1f%%' % (beta_val[np.argmax(accuracy_val)], max(accuracy_val)))\n",
    "plt.semilogx(beta_val, accuracy_val)\n",
    "plt.grid(True)\n",
    "plt.title('Test accuracy by regularization (logistic)')\n",
    "plt.show()"
   ],
   "metadata": {
    "collapsed": false,
    "pycharm": {
     "name": "#%%\n",
     "is_executing": false
    }
   }
  },
  {
   "cell_type": "markdown",
   "source": [
    "Для данной НС регуляризация почти не улучшила точность классификатора (+0.1% в сравнении с предыдущей моделью).\n",
    "Далее будем использовать значении регуляризации 0.00016, при котором НС показала наилучшую точность 94.9%"
   ],
   "metadata": {
    "collapsed": false,
    "pycharm": {
     "name": "#%% md\n"
    }
   }
  },
  {
   "cell_type": "code",
   "execution_count": 12,
   "outputs": [
    {
     "name": "stdout",
     "text": [
      "WARNING:tensorflow:From <ipython-input-12-338d8966f1d4>:28: calling dropout (from tensorflow.python.ops.nn_ops) with keep_prob is deprecated and will be removed in a future version.\n",
      "Instructions for updating:\n",
      "Please use `rate` instead of `keep_prob`. Rate should be set to `rate = 1 - keep_prob`.\n"
     ],
     "output_type": "stream"
    }
   ],
   "source": [
    "graph = tf.Graph()\n",
    "with graph.as_default():\n",
    "    tf_train_dataset = tf.placeholder(tf.float32, shape=(batch_size, image_size * image_size))\n",
    "    tf_train_labels = tf.placeholder(tf.float32, shape=(batch_size, num_labels))\n",
    "    tf_valid_dataset = tf.constant(valid_dataset)\n",
    "    tf_test_dataset = tf.constant(test_dataset)\n",
    "    regularization = tf.placeholder(tf.float32)\n",
    "\n",
    "    # Variables\n",
    "    W1 = tf.get_variable('W1', [image_size * image_size, hidden_size1],\n",
    "                         initializer=tf.contrib.layers.xavier_initializer())\n",
    "    b1 = tf.get_variable('b1', [hidden_size1], initializer=tf.zeros_initializer())\n",
    "\n",
    "    # Hidden layer 1\n",
    "    W2 = tf.get_variable('W2', [hidden_size1, hidden_size2], initializer=tf.contrib.layers.xavier_initializer())\n",
    "    b2 = tf.get_variable('b2', [hidden_size2], initializer=tf.zeros_initializer())\n",
    "\n",
    "    # Hidden layer 2\n",
    "    W3 = tf.get_variable('W3', [hidden_size2, hidden_size3], initializer=tf.contrib.layers.xavier_initializer())\n",
    "    b3 = tf.get_variable('b3', [hidden_size3], initializer=tf.zeros_initializer())\n",
    "\n",
    "    # Hidden layer 3\n",
    "    W4 = tf.get_variable('W4', [hidden_size3, num_labels], initializer=tf.contrib.layers.xavier_initializer())\n",
    "    b4 = tf.get_variable('b4', [num_labels], initializer=tf.zeros_initializer())\n",
    "\n",
    "    # Training computation\n",
    "    a1 = tf.nn.relu(tf.matmul(tf_train_dataset, W1) + b1)\n",
    "    a1 = tf.nn.dropout(a1, 0.9)\n",
    "    a2 = tf.nn.relu(tf.matmul(a1, W2) + b2)\n",
    "    a2 = tf.nn.dropout(a2, 0.9)\n",
    "    a3 = tf.nn.relu(tf.matmul(a2, W3) + b3)\n",
    "    a3 = tf.nn.dropout(a3, 0.9)\n",
    "    logits = tf.matmul(a3, W4) + b4\n",
    "\n",
    "    loss = tf.reduce_mean(tf.nn.softmax_cross_entropy_with_logits(logits=logits, labels=tf_train_labels)) + \\\n",
    "           regularization * (\n",
    "                   tf.nn.l2_loss(W1) + tf.nn.l2_loss(b1) +\n",
    "                   tf.nn.l2_loss(W2) + tf.nn.l2_loss(b2) +\n",
    "                   tf.nn.l2_loss(W3) + tf.nn.l2_loss(b3) +\n",
    "                   tf.nn.l2_loss(W4) + tf.nn.l2_loss(b4))\n",
    "\n",
    "    optimizer = tf.train.GradientDescentOptimizer(0.5).minimize(loss)\n",
    "    train_prediction = tf.nn.softmax(logits)\n",
    "\n",
    "    a1_valid = tf.nn.relu(tf.matmul(tf_valid_dataset, W1) + b1)\n",
    "    a2_valid = tf.nn.relu(tf.matmul(a1_valid, W2) + b2)\n",
    "    a3_valid = tf.nn.relu(tf.matmul(a2_valid, W3) + b3)\n",
    "    valid_logits = tf.matmul(a3_valid, W4) + b4\n",
    "    valid_prediction = tf.nn.softmax(valid_logits)\n",
    "\n",
    "    a1_test = tf.nn.relu(tf.matmul(tf_test_dataset, W1) + b1)\n",
    "    a2_test = tf.nn.relu(tf.matmul(a1_test, W2) + b2)\n",
    "    a3_test = tf.nn.relu(tf.matmul(a2_test, W3) + b3)\n",
    "    test_logits = tf.matmul(a3_test, W4) + b4\n",
    "    test_prediction = tf.nn.softmax(test_logits)"
   ],
   "metadata": {
    "collapsed": false,
    "pycharm": {
     "name": "#%%\n",
     "is_executing": false
    }
   }
  },
  {
   "cell_type": "code",
   "execution_count": 13,
   "outputs": [
    {
     "name": "stdout",
     "text": [
      "Minibatch loss at step 0: 2.421176\n",
      "Minibatch accuracy: 3.9%\n",
      "Validation accuracy: 35.6%\n",
      "Minibatch loss at step 500: 0.589561\n",
      "Minibatch accuracy: 84.4%\n",
      "Validation accuracy: 85.9%\n",
      "Minibatch loss at step 1000: 0.599794\n",
      "Minibatch accuracy: 84.4%\n",
      "Validation accuracy: 87.1%\n",
      "Minibatch loss at step 1500: 0.577289\n",
      "Minibatch accuracy: 83.6%\n",
      "Validation accuracy: 87.9%\n",
      "Minibatch loss at step 2000: 0.446838\n",
      "Minibatch accuracy: 89.1%\n",
      "Validation accuracy: 88.5%\n",
      "Minibatch loss at step 2500: 0.496118\n",
      "Minibatch accuracy: 87.5%\n",
      "Validation accuracy: 88.7%\n",
      "Minibatch loss at step 3000: 0.466086\n",
      "Minibatch accuracy: 89.8%\n",
      "Validation accuracy: 89.2%\n",
      "Minibatch loss at step 3500: 0.425851\n",
      "Minibatch accuracy: 90.6%\n",
      "Validation accuracy: 89.0%\n",
      "Minibatch loss at step 4000: 0.456536\n",
      "Minibatch accuracy: 86.7%\n",
      "Validation accuracy: 89.4%\n",
      "Minibatch loss at step 4500: 0.358285\n",
      "Minibatch accuracy: 91.4%\n",
      "Validation accuracy: 89.8%\n",
      "Dropout Test accuracy: 94.7%\n"
     ],
     "output_type": "stream"
    }
   ],
   "source": [
    "with tf.Session(graph=graph) as session:\n",
    "    tf.initialize_all_variables().run()\n",
    "\n",
    "    for step in range(num_steps):\n",
    "        offset = (step * batch_size) % (train_labels.shape[0] - batch_size)\n",
    "        batch_data = train_dataset[offset:(offset + batch_size), :]\n",
    "        batch_labels = train_labels[offset:(offset + batch_size), :]\n",
    "        feed_dict = {tf_train_dataset: batch_data, tf_train_labels: batch_labels, regularization: 0.00016}\n",
    "        _, l, predictions = session.run([optimizer, loss, train_prediction], feed_dict=feed_dict)\n",
    "\n",
    "        if step % 500 == 0:\n",
    "            print(\"Minibatch loss at step %d: %f\" % (step, l))\n",
    "            print(\"Minibatch accuracy: %.1f%%\" % accuracy(predictions, batch_labels))\n",
    "            print(\"Validation accuracy: %.1f%%\" % accuracy(valid_prediction.eval(), valid_labels))\n",
    "\n",
    "    print(\"Dropout Test accuracy: %.1f%%\" % accuracy(test_prediction.eval(), test_labels))"
   ],
   "metadata": {
    "collapsed": false,
    "pycharm": {
     "name": "#%%\n",
     "is_executing": false
    }
   }
  },
  {
   "cell_type": "markdown",
   "source": [
    "Применение техники dropout не привело к увеличению качества классфикации.\n",
    "Вероятно НС не имеет признаков переобучения и поэтому, в данном случае, применение dropout только увеличивает ошибку обучения."
   ],
   "metadata": {
    "collapsed": false,
    "pycharm": {
     "name": "#%% md\n"
    }
   }
  },
  {
   "cell_type": "markdown",
   "source": [
    "#### Задание 4. Воспользуйтесь динамически изменяемой скоростью обучения (learning rate). Наилучшая точность, достигнутая с помощью данной модели составляет 97.1%. Какую точность демонстрирует Ваша реализованная модель?"
   ],
   "metadata": {
    "collapsed": false,
    "pycharm": {
     "name": "#%% md\n"
    }
   }
  },
  {
   "cell_type": "code",
   "execution_count": 14,
   "outputs": [],
   "source": [
    "graph = tf.Graph()\n",
    "with graph.as_default():\n",
    "    tf_train_dataset = tf.placeholder(tf.float32, shape=(batch_size, image_size * image_size))\n",
    "    tf_train_labels = tf.placeholder(tf.float32, shape=(batch_size, num_labels))\n",
    "    tf_valid_dataset = tf.constant(valid_dataset)\n",
    "    tf_test_dataset = tf.constant(test_dataset)\n",
    "    regularization = tf.placeholder(tf.float32)\n",
    "    global_step = tf.Variable(0)\n",
    "\n",
    "    # Variables\n",
    "    W1 = tf.Variable(\n",
    "        tf.truncated_normal([image_size * image_size, hidden_size1], stddev=np.sqrt(2.0 / (image_size * image_size))))\n",
    "    b1 = tf.Variable(tf.zeros([hidden_size1]))\n",
    "\n",
    "    W2 = tf.Variable(tf.truncated_normal([hidden_size1, hidden_size2], stddev=np.sqrt(2.0 / hidden_size1)))\n",
    "    b2 = tf.Variable(tf.zeros([hidden_size2]))\n",
    "\n",
    "    W3 = tf.Variable(tf.truncated_normal([hidden_size2, hidden_size3], stddev=np.sqrt(2.0 / hidden_size2)))\n",
    "    b3 = tf.Variable(tf.zeros([hidden_size3]))\n",
    "\n",
    "    W4 = tf.Variable(tf.truncated_normal([hidden_size3, num_labels], stddev=np.sqrt(2.0 / hidden_size3)))\n",
    "    b4 = tf.Variable(tf.zeros([num_labels]))\n",
    "\n",
    "    # Training computation\n",
    "    a1 = tf.nn.relu(tf.matmul(tf_train_dataset, W1) + b1)\n",
    "    a2 = tf.nn.relu(tf.matmul(a1, W2) + b2)\n",
    "    a3 = tf.nn.relu(tf.matmul(a2, W3) + b3)\n",
    "    logits = tf.matmul(a3, W4) + b4\n",
    "\n",
    "    loss = tf.reduce_mean(tf.nn.softmax_cross_entropy_with_logits(logits=logits, labels=tf_train_labels)) + \\\n",
    "           regularization * (\n",
    "                   tf.nn.l2_loss(W1) + tf.nn.l2_loss(b1) +\n",
    "                   tf.nn.l2_loss(W2) + tf.nn.l2_loss(b2) +\n",
    "                   tf.nn.l2_loss(W3) + tf.nn.l2_loss(b3) +\n",
    "                   tf.nn.l2_loss(W4) + tf.nn.l2_loss(b4))\n",
    "\n",
    "    learning_rate = tf.train.exponential_decay(0.5, global_step, 1000, 0.7, staircase=True)\n",
    "    optimizer = tf.train.GradientDescentOptimizer(learning_rate).minimize(loss, global_step=global_step)\n",
    "    train_prediction = tf.nn.softmax(logits)\n",
    "\n",
    "    a1_valid = tf.nn.relu(tf.matmul(tf_valid_dataset, W1) + b1)\n",
    "    a2_valid = tf.nn.relu(tf.matmul(a1_valid, W2) + b2)\n",
    "    a3_valid = tf.nn.relu(tf.matmul(a2_valid, W3) + b3)\n",
    "    valid_logits = tf.matmul(a3_valid, W4) + b4\n",
    "    valid_prediction = tf.nn.softmax(valid_logits)\n",
    "\n",
    "    a1_test = tf.nn.relu(tf.matmul(tf_test_dataset, W1) + b1)\n",
    "    a2_test = tf.nn.relu(tf.matmul(a1_test, W2) + b2)\n",
    "    a3_test = tf.nn.relu(tf.matmul(a2_test, W3) + b3)\n",
    "    test_logits = tf.matmul(a3_test, W4) + b4\n",
    "    test_prediction = tf.nn.softmax(test_logits)"
   ],
   "metadata": {
    "collapsed": false,
    "pycharm": {
     "name": "#%%\n",
     "is_executing": false
    }
   }
  },
  {
   "cell_type": "code",
   "execution_count": 15,
   "outputs": [],
   "source": [
    "num_steps = 5000\n",
    "hidden_size1 = 4000\n",
    "hidden_size2 = 2000\n",
    "hidden_size3 = 100"
   ],
   "metadata": {
    "collapsed": false,
    "pycharm": {
     "name": "#%%\n",
     "is_executing": false
    }
   }
  },
  {
   "cell_type": "code",
   "execution_count": 16,
   "outputs": [
    {
     "name": "stdout",
     "text": [
      "Minibatch loss at step 0: 2.452325\n",
      "Minibatch accuracy: 12.5%\n",
      "Validation accuracy: 33.5%\n",
      "Minibatch loss at step 500: 0.582550\n",
      "Minibatch accuracy: 86.7%\n",
      "Validation accuracy: 85.7%\n",
      "Minibatch loss at step 1000: 0.533436\n",
      "Minibatch accuracy: 88.3%\n",
      "Validation accuracy: 88.1%\n",
      "Minibatch loss at step 1500: 0.580822\n",
      "Minibatch accuracy: 83.6%\n",
      "Validation accuracy: 88.5%\n",
      "Minibatch loss at step 2000: 0.385167\n",
      "Minibatch accuracy: 91.4%\n",
      "Validation accuracy: 89.1%\n",
      "Minibatch loss at step 2500: 0.437295\n",
      "Minibatch accuracy: 89.8%\n",
      "Validation accuracy: 89.5%\n",
      "Minibatch loss at step 3000: 0.421934\n",
      "Minibatch accuracy: 92.2%\n",
      "Validation accuracy: 90.0%\n",
      "Minibatch loss at step 3500: 0.409220\n",
      "Minibatch accuracy: 91.4%\n",
      "Validation accuracy: 90.2%\n",
      "Minibatch loss at step 4000: 0.382378\n",
      "Minibatch accuracy: 92.2%\n",
      "Validation accuracy: 90.4%\n",
      "Minibatch loss at step 4500: 0.302190\n",
      "Minibatch accuracy: 92.2%\n",
      "Validation accuracy: 90.4%\n",
      "Final Test accuracy: 95.3%\n"
     ],
     "output_type": "stream"
    }
   ],
   "source": [
    "with tf.Session(graph=graph) as session:\n",
    "    tf.initialize_all_variables().run()\n",
    "\n",
    "    for step in range(num_steps):\n",
    "        offset = (step * batch_size) % (train_labels.shape[0] - batch_size)\n",
    "        batch_data = train_dataset[offset:(offset + batch_size), :]\n",
    "        batch_labels = train_labels[offset:(offset + batch_size), :]\n",
    "        feed_dict = {tf_train_dataset: batch_data, tf_train_labels: batch_labels, regularization: 0.00016}\n",
    "\n",
    "        _, l, predictions = session.run([optimizer, loss, train_prediction], feed_dict=feed_dict)\n",
    "\n",
    "        if step % 500 == 0:\n",
    "            print(\"Minibatch loss at step %d: %f\" % (step, l))\n",
    "            print(\"Minibatch accuracy: %.1f%%\" % accuracy(predictions, batch_labels))\n",
    "            print(\"Validation accuracy: %.1f%%\" % accuracy(valid_prediction.eval(), valid_labels))\n",
    "\n",
    "    print(\"Final Test accuracy: %.1f%%\" % accuracy(test_prediction.eval(), test_labels))"
   ],
   "metadata": {
    "collapsed": false,
    "pycharm": {
     "name": "#%%\n",
     "is_executing": false
    }
   }
  },
  {
   "cell_type": "markdown",
   "source": [
    "С помощью динамически изменяемой скорости обучения удалось достичь точности 95.3%\n"
   ],
   "metadata": {
    "collapsed": false,
    "pycharm": {
     "name": "#%% md\n"
    }
   }
  }
 ],
 "metadata": {
  "kernelspec": {
   "name": "python3",
   "language": "python",
   "display_name": "Python 3"
  },
  "language_info": {
   "codemirror_mode": {
    "name": "ipython",
    "version": 2
   },
   "file_extension": ".py",
   "mimetype": "text/x-python",
   "name": "python",
   "nbconvert_exporter": "python",
   "pygments_lexer": "ipython2",
   "version": "2.7.6"
  },
  "pycharm": {
   "stem_cell": {
    "cell_type": "raw",
    "source": [],
    "metadata": {
     "collapsed": false
    }
   }
  }
 },
 "nbformat": 4,
 "nbformat_minor": 0
}